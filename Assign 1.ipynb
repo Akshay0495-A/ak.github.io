{
 "cells": [
  {
   "cell_type": "markdown",
   "id": "ac891457",
   "metadata": {},
   "source": [
    "### Defining a Function for checking if two dataset can identify same variable"
   ]
  },
  {
   "cell_type": "code",
   "execution_count": 5,
   "id": "b2fd1ca2",
   "metadata": {},
   "outputs": [
    {
     "name": "stdout",
     "output_type": "stream",
     "text": [
      "Requirement already satisfied: scipy in c:\\users\\sneha\\anaconda3\\lib\\site-packages (1.7.3)\n",
      "Requirement already satisfied: numpy<1.23.0,>=1.16.5 in c:\\users\\sneha\\anaconda3\\lib\\site-packages (from scipy) (1.22.4)\n"
     ]
    }
   ],
   "source": [
    "!pip install scipy"
   ]
  },
  {
   "cell_type": "code",
   "execution_count": 11,
   "id": "d4e9f918",
   "metadata": {},
   "outputs": [
    {
     "name": "stdout",
     "output_type": "stream",
     "text": [
      "Requirement already satisfied: scipy in c:\\users\\sneha\\anaconda3\\lib\\site-packages (1.7.3)\n",
      "Requirement already satisfied: numpy<1.23.0,>=1.16.5 in c:\\users\\sneha\\anaconda3\\lib\\site-packages (from scipy) (1.22.4)\n",
      "Note: you may need to restart the kernel to use updated packages.\n"
     ]
    }
   ],
   "source": [
    "pip install scipy"
   ]
  },
  {
   "cell_type": "code",
   "execution_count": 17,
   "id": "bf35c954",
   "metadata": {},
   "outputs": [],
   "source": [
    "import scipy\n",
    "from scipy.stats import ks_2samp #for checking if the two dataset distribution are same or not\n",
    "import numpy as np\n",
    "import seaborn as sns\n",
    "import matplotlib.pyplot as plt"
   ]
  },
  {
   "cell_type": "code",
   "execution_count": 18,
   "id": "a641798b",
   "metadata": {},
   "outputs": [],
   "source": [
    "data1= (1,2,3,4,5,6,7,8,9,10)\n",
    "data2=(1,3,5,7,9,11,13)"
   ]
  },
  {
   "cell_type": "code",
   "execution_count": 19,
   "id": "555cb0a1",
   "metadata": {},
   "outputs": [
    {
     "ename": "TypeError",
     "evalue": "ks_2samp() got an unexpected keyword argument 'method'",
     "output_type": "error",
     "traceback": [
      "\u001b[1;31m---------------------------------------------------------------------------\u001b[0m",
      "\u001b[1;31mTypeError\u001b[0m                                 Traceback (most recent call last)",
      "Input \u001b[1;32mIn [19]\u001b[0m, in \u001b[0;36m<cell line: 1>\u001b[1;34m()\u001b[0m\n\u001b[1;32m----> 1\u001b[0m \u001b[43mscipy\u001b[49m\u001b[38;5;241;43m.\u001b[39;49m\u001b[43mstats\u001b[49m\u001b[38;5;241;43m.\u001b[39;49m\u001b[43mks_2samp\u001b[49m\u001b[43m(\u001b[49m\u001b[43mdata1\u001b[49m\u001b[43m,\u001b[49m\u001b[43mdata2\u001b[49m\u001b[43m,\u001b[49m\u001b[43malternative\u001b[49m\u001b[38;5;241;43m=\u001b[39;49m\u001b[38;5;124;43m'\u001b[39;49m\u001b[38;5;124;43mtwo sided\u001b[39;49m\u001b[38;5;124;43m'\u001b[39;49m\u001b[43m,\u001b[49m\u001b[43m \u001b[49m\u001b[43mmethod\u001b[49m\u001b[38;5;241;43m=\u001b[39;49m\u001b[38;5;124;43m'\u001b[39;49m\u001b[38;5;124;43mauto\u001b[39;49m\u001b[38;5;124;43m'\u001b[39;49m\u001b[43m)\u001b[49m\n",
      "\u001b[1;31mTypeError\u001b[0m: ks_2samp() got an unexpected keyword argument 'method'"
     ]
    }
   ],
   "source": [
    "scipy.stats.ks_2samp(data1,data2,alternative='two sided', method='auto') #kolmogorov-smirnov test"
   ]
  },
  {
   "cell_type": "code",
   "execution_count": 20,
   "id": "1a907bd6",
   "metadata": {},
   "outputs": [],
   "source": [
    "def distcheck(D1,D2, a):    #a = significance level(alpha)\n",
    "    statistic, pvalue =ks_2samp(D1,D2)\n",
    "    if (pvalue < a):\n",
    "        print('The two datasets do not identify same variable.')\n",
    "    else:\n",
    "        print('The two datasets identify same variable.')\n",
    "    \n",
    "    #Creating histogram \n",
    "    fig, (ax1, ax2) = plt.subplots(1, 2, figsize=(12, 6))\n",
    "    \n",
    "    ax1.hist(D1, bins = 10, density=True, alpha=0.5, color='blue')\n",
    "    ax1.set_xlabel('Data')\n",
    "    ax1.set_ylabel('Frequency')\n",
    "    ax1.set_title('Dataset 1')\n",
    "\n",
    "    \n",
    "    ax2.hist(D2, bins = 10, density=True, alpha=0.5, color='red')\n",
    "    ax2.set_xlabel('Data')\n",
    "    ax2.set_ylabel('Frequency')\n",
    "    ax2.set_title('Dataset 2')\n",
    "    \n",
    "    plt.show()"
   ]
  },
  {
   "cell_type": "code",
   "execution_count": 21,
   "id": "411756ab",
   "metadata": {},
   "outputs": [
    {
     "name": "stdout",
     "output_type": "stream",
     "text": [
      "The two datasets identify same variable.\n"
     ]
    },
    {
     "data": {
      "image/png": "[encoded data removed]",
      "text/plain": [
       "<Figure size 864x432 with 2 Axes>"
      ]
     },
     "metadata": {
      "needs_background": "light"
     },
     "output_type": "display_data"
    }
   ],
   "source": [
    "distcheck(data1,data2, 0.05)"
   ]
  },
  {
   "cell_type": "markdown",
   "id": "ae414c7f",
   "metadata": {},
   "source": [
    "Explanation- If the p value is less than significance level or (alpha=0.05) we tend to reject the null hypotheses.\n",
    "Null hypotheses for ks test states: The distribution for two samples are same.\n",
    "Alternate hypotheses: The distribution for two samples are not same."
   ]
  },
  {
   "cell_type": "code",
   "execution_count": null,
   "id": "790ec023",
   "metadata": {},
   "outputs": [],
   "source": []
  }
 ],
 "metadata": {
  "kernelspec": {
   "display_name": "Python 3 (ipykernel)",
   "language": "python",
   "name": "python3"
  },
  "language_info": {
   "codemirror_mode": {
    "name": "ipython",
    "version": 3
   },
   "file_extension": ".py",
   "mimetype": "text/x-python",
   "name": "python",
   "nbconvert_exporter": "python",
   "pygments_lexer": "ipython3",
   "version": "3.9.12"
  }
 },
 "nbformat": 4,
 "nbformat_minor": 5
}
